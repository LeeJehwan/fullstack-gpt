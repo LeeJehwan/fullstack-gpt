{
 "cells": [
  {
   "cell_type": "code",
   "execution_count": 2,
   "metadata": {},
   "outputs": [],
   "source": [
    "from langchain.chat_models import ChatOllama, ChatOpenAI\n",
    "from langchain.callbacks import StreamingStdOutCallbackHandler\n",
    "from langchain.embeddings import (\n",
    "    OllamaEmbeddings,\n",
    "    OpenAIEmbeddings,\n",
    "    CacheBackedEmbeddings,\n",
    ")\n",
    "from langchain.storage import LocalFileStore\n",
    "\n",
    "PRIVATE = True\n",
    "\n",
    "# openai 결제를 하지 않아서 ollama를 사용하였습니다.\n",
    "model = \"mistral:latest\" if PRIVATE else \"gpt-3.5-turbo\"\n",
    "ChatModel = ChatOllama if PRIVATE else ChatOpenAI\n",
    "EmbeddingModel = OllamaEmbeddings if PRIVATE else OpenAIEmbeddings\n",
    "\n",
    "llm = ChatModel(\n",
    "    model=model,\n",
    "    temperature=0.1,\n",
    "    streaming=True,\n",
    "    callbacks=[\n",
    "        StreamingStdOutCallbackHandler(),\n",
    "    ],\n",
    ")\n",
    "\n",
    "embeddings = EmbeddingModel(model=model)\n",
    "cache_dir = LocalFileStore(\"./.cache/\")\n",
    "cached_embeddings = CacheBackedEmbeddings.from_bytes_store(embeddings, cache_dir)"
   ]
  },
  {
   "cell_type": "code",
   "execution_count": 4,
   "metadata": {},
   "outputs": [],
   "source": [
    "from langchain.document_loaders import UnstructuredFileLoader\n",
    "from langchain.text_splitter import CharacterTextSplitter\n",
    "from langchain.vectorstores import FAISS\n",
    "\n",
    "splitter = CharacterTextSplitter.from_tiktoken_encoder(\n",
    "    separator=\"\\n\",\n",
    "    chunk_size=600,\n",
    "    chunk_overlap=100,\n",
    ")\n",
    "loader = UnstructuredFileLoader(\"./files/chapter_three.txt\")\n",
    "docs = loader.load_and_split(text_splitter=splitter)\n",
    "\n",
    "vectorstore = FAISS.from_documents(docs, cached_embeddings)\n",
    "retriver = vectorstore.as_retriever()"
   ]
  },
  {
   "cell_type": "code",
   "execution_count": 30,
   "metadata": {},
   "outputs": [],
   "source": [
    "from langchain.prompts import ChatPromptTemplate, MessagesPlaceholder\n",
    "from langchain.schema.runnable import RunnablePassthrough\n",
    "from langchain.memory import ConversationBufferMemory\n",
    "\n",
    "\n",
    "prompt = ChatPromptTemplate.from_messages(\n",
    "    [\n",
    "        (\n",
    "            \"system\",\n",
    "            \"You are a helpful assistant. Answer questions using only the following context. If you don't know the answer just say you don't know, don't make it up:\\n\\n{context}\",\n",
    "        ),\n",
    "        MessagesPlaceholder(variable_name=\"history\"),\n",
    "        (\"human\", \"{question}\"),\n",
    "    ]\n",
    ")\n",
    "\n",
    "memory = ConversationBufferMemory(return_messages=True)\n",
    "\n",
    "\n",
    "def load_memory(_):\n",
    "    x = memory.load_memory_variables({})\n",
    "    return x[\"history\"]\n",
    "\n",
    "\n",
    "chain = (\n",
    "    {\n",
    "        \"context\": retriver,\n",
    "        \"history\": load_memory,\n",
    "        \"question\": RunnablePassthrough(),\n",
    "    }\n",
    "    | prompt\n",
    "    | llm\n",
    ")\n",
    "\n",
    "\n",
    "def invoke_chain(question):\n",
    "    result = chain.invoke({\"question\": question})\n",
    "    memory.save_context(\n",
    "        {\"input\": question},\n",
    "        {\"output\": result.content},\n",
    "    )"
   ]
  },
  {
   "cell_type": "code",
   "execution_count": 31,
   "metadata": {},
   "outputs": [
    {
     "name": "stdout",
     "output_type": "stream",
     "text": [
      " Based on the provided text, it is not explicitly stated whether Aaronson is guilty or innocent. However, it appears that he has been accused of thoughtcrime and is being interrogated by O'Brien in the Ministry of Love. The novel does not provide enough information to determine his guilt or innocence with certainty."
     ]
    }
   ],
   "source": [
    "invoke_chain(\"Is Aaronson guilty?\")"
   ]
  },
  {
   "cell_type": "code",
   "execution_count": 32,
   "metadata": {},
   "outputs": [
    {
     "name": "stdout",
     "output_type": "stream",
     "text": [
      " The text provided does not contain any information about a message written in a table by Aaronson. It only mentions that O'Brien found a piece of paper with a message on it, but there is no indication that it was written by Aaronson or what the message said."
     ]
    }
   ],
   "source": [
    "invoke_chain(\"What message did he write in the table?\")"
   ]
  },
  {
   "cell_type": "code",
   "execution_count": 33,
   "metadata": {},
   "outputs": [
    {
     "name": "stdout",
     "output_type": "stream",
     "text": [
      " Julia is a character in George Orwell's novel \"1984.\" She is a member of the Brotherhood, an underground resistance movement against the totalitarian regime of Oceania. Winston Smith becomes romantically involved with her, but their relationship is fraught with danger and betrayal. Julia is eventually captured by the Thought Police and tortured for information about the Brotherhood."
     ]
    }
   ],
   "source": [
    "invoke_chain(\"Who is Julia?\")"
   ]
  },
  {
   "cell_type": "code",
   "execution_count": 34,
   "metadata": {},
   "outputs": [
    {
     "name": "stdout",
     "output_type": "stream",
     "text": [
      " The first question you asked was \"Is Aaronson guilty?\"\n",
      "\n",
      "Here are some possible follow-up questions based on the text:\n",
      "\n",
      "* What message did he write in the table?\n",
      "* Who is Julia and what role does she play in the novel?\n",
      "* What is the ultimate purpose of the Party according to O'Brien?\n",
      "* Why does Winston feel weariness and despair when speaking with O'Brien?\n",
      "* How does O'Brien justify the Party's rule over the people of Oceania?\n",
      "* What is the significance of the number 35 in this passage?\n",
      "* What is the ultimate fate of Aaronson, Julia, and Winston in the novel?"
     ]
    }
   ],
   "source": [
    "invoke_chain(\"what is the my first question?\")"
   ]
  },
  {
   "cell_type": "code",
   "execution_count": null,
   "metadata": {},
   "outputs": [],
   "source": []
  }
 ],
 "metadata": {
  "kernelspec": {
   "display_name": "env",
   "language": "python",
   "name": "python3"
  },
  "language_info": {
   "codemirror_mode": {
    "name": "ipython",
    "version": 3
   },
   "file_extension": ".py",
   "mimetype": "text/x-python",
   "name": "python",
   "nbconvert_exporter": "python",
   "pygments_lexer": "ipython3",
   "version": "3.11.5"
  }
 },
 "nbformat": 4,
 "nbformat_minor": 2
}
