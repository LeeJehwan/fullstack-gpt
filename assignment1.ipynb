{
 "cells": [
  {
   "cell_type": "code",
   "execution_count": 4,
   "metadata": {},
   "outputs": [],
   "source": [
    "from langchain.chat_models import ChatOllama, ChatOpenAI\n",
    "from langchain.callbacks import StreamingStdOutCallbackHandler\n",
    "\n",
    "\n",
    "PRIVATE = True\n",
    "\n",
    "# openai 결제를 하지 않아서 ollama를 사용하였습니다.\n",
    "model = \"mistral:latest\" if PRIVATE else \"gpt-3.5-turbo\"\n",
    "ChatModel = ChatOllama if PRIVATE else ChatOpenAI\n",
    "\n",
    "chat = ChatModel(\n",
    "    model=model,\n",
    "    temperature=0.1,\n",
    "    streaming=True,\n",
    "    callbacks=[\n",
    "        StreamingStdOutCallbackHandler(),\n",
    "    ],\n",
    ")"
   ]
  },
  {
   "cell_type": "code",
   "execution_count": 5,
   "metadata": {},
   "outputs": [
    {
     "name": "stdout",
     "output_type": "stream",
     "text": [
      " In the realm where logic and artistry blend,\n",
      "    A tale of Python, my friend,\n",
      "    A language that's easy to comprehend,\n",
      "    Guiding beginners to the end.\n",
      "\n",
      "    Its syntax, simple yet profound,\n",
      "    In the world of coding, it's sound,\n",
      "    With libraries vast and wide,\n",
      "    It's a journey, not just a ride.\n",
      "\n",
      "    From data analysis to AI,\n",
      "    Python soars ever so high,\n",
      "    A versatile companion, it's true,\n",
      "    In the digital world, it's my view.\n",
      "\n",
      "    With a gentle grace and a friendly face,\n",
      "    It welcomes all with open space,\n",
      "    For those who seek to create, innovate,\n",
      "    Python stands ready, never late.\n",
      "\n",
      "    So here's to Python, my guide,\n",
      "    In the realm of code, it's my pride,\n",
      "    A language that's more than a tool,\n",
      "    It's a partner in every school. This poem beautifully encapsulates the essence and significance of the programming language Python. The poet uses vivid imagery to describe Python as a friendly companion, easy to comprehend, versatile, and innovative.\n",
      "\n",
      "The first stanza introduces Python as a language that is simple yet profound, making it an ideal choice for beginners in coding. The syntax is described as sound, and the vast libraries available make it a comprehensive tool for various tasks such as data analysis and artificial intelligence.\n",
      "\n",
      "In the second stanza, the poet emphasizes Python's versatility by highlighting its ability to soar high in various domains of computing. From data analysis to AI, Python is presented as a powerful tool that can handle complex tasks with ease.\n",
      "\n",
      "The third stanza underscores Python's welcoming nature and openness towards those who seek to create and innovate. The poet portrays Python as a partner that stands ready to assist in every school of coding.\n",
      "\n",
      "Finally, the poem concludes by expressing pride in Python, acknowledging it as more than just a tool but a partner in learning and innovation. Overall, this poem is an eloquent tribute to the programming language Python, emphasizing its importance and impact on the world of computing."
     ]
    },
    {
     "data": {
      "text/plain": [
       "AIMessage(content=\" This poem beautifully encapsulates the essence and significance of the programming language Python. The poet uses vivid imagery to describe Python as a friendly companion, easy to comprehend, versatile, and innovative.\\n\\nThe first stanza introduces Python as a language that is simple yet profound, making it an ideal choice for beginners in coding. The syntax is described as sound, and the vast libraries available make it a comprehensive tool for various tasks such as data analysis and artificial intelligence.\\n\\nIn the second stanza, the poet emphasizes Python's versatility by highlighting its ability to soar high in various domains of computing. From data analysis to AI, Python is presented as a powerful tool that can handle complex tasks with ease.\\n\\nThe third stanza underscores Python's welcoming nature and openness towards those who seek to create and innovate. The poet portrays Python as a partner that stands ready to assist in every school of coding.\\n\\nFinally, the poem concludes by expressing pride in Python, acknowledging it as more than just a tool but a partner in learning and innovation. Overall, this poem is an eloquent tribute to the programming language Python, emphasizing its importance and impact on the world of computing.\")"
      ]
     },
     "execution_count": 5,
     "metadata": {},
     "output_type": "execute_result"
    }
   ],
   "source": [
    "from langchain.prompts import ChatPromptTemplate\n",
    "\n",
    "poem_prompt = ChatPromptTemplate.from_messages(\n",
    "    [\n",
    "        (\n",
    "            \"system\",\n",
    "            \"You are a world-class poet. You have to write a poem related to programming languages.\",\n",
    "        ),\n",
    "        (\"human\", \"I want to write a poem about {language} programming language\"),\n",
    "    ]\n",
    ")\n",
    "\n",
    "\n",
    "poem_description_prompt = ChatPromptTemplate.from_messages(\n",
    "    [\n",
    "        (\n",
    "            \"system\",\n",
    "            \"You are a world-renowned poetry commentator. You have to explain the poem about programming languages.\",\n",
    "        ),\n",
    "        (\"human\", \"{poem}\"),\n",
    "    ]\n",
    ")\n",
    "\n",
    "poem_chain = poem_prompt | chat\n",
    "poem_description_chain = poem_description_prompt | chat\n",
    "\n",
    "final_chain = {\"poem\": poem_chain} | poem_description_chain\n",
    "final_chain.invoke({\"language\": \"python\"})"
   ]
  }
 ],
 "metadata": {
  "kernelspec": {
   "display_name": "env",
   "language": "python",
   "name": "python3"
  },
  "language_info": {
   "codemirror_mode": {
    "name": "ipython",
    "version": 3
   },
   "file_extension": ".py",
   "mimetype": "text/x-python",
   "name": "python",
   "nbconvert_exporter": "python",
   "pygments_lexer": "ipython3",
   "version": "3.11.5"
  }
 },
 "nbformat": 4,
 "nbformat_minor": 2
}
