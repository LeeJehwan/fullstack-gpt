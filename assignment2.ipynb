{
 "cells": [
  {
   "cell_type": "code",
   "execution_count": 2,
   "metadata": {},
   "outputs": [],
   "source": [
    "from langchain.chat_models import ChatOllama, ChatOpenAI\n",
    "from langchain.callbacks import StreamingStdOutCallbackHandler\n",
    "\n",
    "\n",
    "PRIVATE = True\n",
    "\n",
    "# openai 결제를 하지 않아서 ollama를 사용하였습니다.\n",
    "model = \"mistral:latest\" if PRIVATE else \"gpt-3.5-turbo\"\n",
    "ChatModel = ChatOllama if PRIVATE else ChatOpenAI\n",
    "\n",
    "chat = ChatModel(\n",
    "    model=model,\n",
    "    temperature=0.1,\n",
    "    streaming=True,\n",
    "    callbacks=[\n",
    "        StreamingStdOutCallbackHandler(),\n",
    "    ],\n",
    ")"
   ]
  },
  {
   "cell_type": "code",
   "execution_count": 6,
   "metadata": {},
   "outputs": [
    {
     "name": "stdout",
     "output_type": "stream",
     "text": [
      " director: Jon Favreau\n",
      "main cast: Robert Downey Jr., Terrence Howard, Jeff Bridges, Gwyneth Paltrow\n",
      "budget: 140000000\n",
      "box office revenue: 585370619\n",
      "genres: Action,Adventure,Science Fiction\n",
      "synopsis: After being held captive in an Afghan cave, billionaire engineer Tony Stark creates a unique weaponized suit of armor to fight evil."
     ]
    },
    {
     "data": {
      "text/plain": [
       "AIMessage(content=' director: Jon Favreau\\nmain cast: Robert Downey Jr., Terrence Howard, Jeff Bridges, Gwyneth Paltrow\\nbudget: 140000000\\nbox office revenue: 585370619\\ngenres: Action,Adventure,Science Fiction\\nsynopsis: After being held captive in an Afghan cave, billionaire engineer Tony Stark creates a unique weaponized suit of armor to fight evil.')"
      ]
     },
     "execution_count": 6,
     "metadata": {},
     "output_type": "execute_result"
    }
   ],
   "source": [
    "from langchain.prompts.few_shot import FewShotChatMessagePromptTemplate\n",
    "from langchain.prompts import ChatPromptTemplate\n",
    "\n",
    "examples = [\n",
    "    {\n",
    "        \"movie\": \"Avatar\",\n",
    "        \"answer\": \"\"\"\n",
    "director: James Cameron\n",
    "main cast: Sam Worthington, Zoe Saldana, Stephen Lang, Michelle Rodriguez, Sigourney Weaver\n",
    "budget: 237000000\n",
    "box office revenue: 2923706026\n",
    "genres: Action,Adventure,Fantasy,Science Fiction\n",
    "synopsis: In the 22nd century, a paraplegic Marine is dispatched to the moon Pandora on a unique mission, but becomes torn between following orders and protecting an alien civilization.\n",
    "\"\"\",\n",
    "    },\n",
    "    {\n",
    "        \"movie\": \"Avengers: Endgame\",\n",
    "        \"answer\": \"\"\"\n",
    "director: Anthony Russo\n",
    "main cast: Robert Downey Jr., Chris Evans, Mark Ruffalo, Chris Hemsworth, Scarlett Johansson\n",
    "budget: 356000000\n",
    "box office revenue: 2799439100\n",
    "genres: Adventure,Science Fiction,Action\n",
    "synopsis: After the devastating events of Avengers: Infinity War, the universe is in ruins due to the efforts of the Mad Titan, Thanos. With the help of remaining allies, the Avengers must assemble once more in order to undo Thanos' actions and restore order to the universe once and for all, no matter what consequences may be in store.\n",
    "\"\"\",\n",
    "    },\n",
    "    {\n",
    "        \"movie\": \"Titanic\",\n",
    "        \"answer\": \"\"\"\n",
    "director: James Cameron\n",
    "main cast: Leonardo DiCaprio, Kate Winslet, Billy Zane, Kathy Bates\n",
    "budget: 200000000\n",
    "box office revenue: 2264162353\n",
    "genres: Drama,Romance\n",
    "synopsis: 101-year-old Rose DeWitt Bukater tells the story of her life aboard the Titanic, 84 years later. A young Rose boards the ship with her mother and fiancé. Meanwhile, Jack Dawson and Fabrizio De Rossi win third-class tickets aboard the ship. Rose tells the whole story from Titanic's departure through to its death—on its first and last voyage—on April 15, 1912.\n",
    "\"\"\",\n",
    "    },\n",
    "    {\n",
    "        \"movie\": \"Frozen\",\n",
    "        \"answer\": \"\"\"\n",
    "director: Chris Buck\n",
    "main cast: Kristen Bell, Idina Menzel, Jonathan Groff\n",
    "budget: 150000000\n",
    "box office revenue: 1274219009\n",
    "genres: Animation,Family,Adventure,Fantasy\n",
    "synopsis: Young princess Anna of Arendelle dreams about finding true love at her sister Elsa’s coronation. Fate takes her on a dangerous journey in an attempt to end the eternal winter that has fallen over the kingdom. She's accompanied by ice delivery man Kristoff, his reindeer Sven, and snowman Olaf. On an adventure where she will find out what friendship, courage, family, and true love really means.\n",
    "\"\"\",\n",
    "    },\n",
    "]\n",
    "\n",
    "\n",
    "example_prompt = ChatPromptTemplate.from_messages(\n",
    "    [\n",
    "        (\"human\", \"What do you know {movie}?\"),\n",
    "        (\"ai\", \"{answer}\"),\n",
    "    ]\n",
    ")\n",
    "\n",
    "\n",
    "example_template = FewShotChatMessagePromptTemplate(\n",
    "    example_prompt=example_prompt,\n",
    "    examples=examples,\n",
    ")\n",
    "\n",
    "full_prompt = ChatPromptTemplate.from_messages(\n",
    "    [\n",
    "        (\n",
    "            \"system\",\n",
    "            \"you are a movie expert. you only give short answers.\",\n",
    "        ),\n",
    "        example_template,\n",
    "        (\"human\", \"What do you know {movie}?\"),\n",
    "    ]\n",
    ")\n",
    "\n",
    "\n",
    "chain = full_prompt | chat\n",
    "\n",
    "chain.invoke({\"movie\": \"Iron Man\"})"
   ]
  },
  {
   "cell_type": "code",
   "execution_count": null,
   "metadata": {},
   "outputs": [],
   "source": []
  }
 ],
 "metadata": {
  "kernelspec": {
   "display_name": "env",
   "language": "python",
   "name": "python3"
  },
  "language_info": {
   "codemirror_mode": {
    "name": "ipython",
    "version": 3
   },
   "file_extension": ".py",
   "mimetype": "text/x-python",
   "name": "python",
   "nbconvert_exporter": "python",
   "pygments_lexer": "ipython3",
   "version": "3.11.5"
  }
 },
 "nbformat": 4,
 "nbformat_minor": 2
}
